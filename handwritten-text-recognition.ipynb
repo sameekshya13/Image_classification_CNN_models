{
 "cells": [
  {
   "cell_type": "code",
   "execution_count": 1,
   "id": "15ef76a2",
   "metadata": {
    "execution": {
     "iopub.execute_input": "2024-06-23T17:58:23.529621Z",
     "iopub.status.busy": "2024-06-23T17:58:23.529289Z",
     "iopub.status.idle": "2024-06-23T17:58:35.450411Z",
     "shell.execute_reply": "2024-06-23T17:58:35.449603Z"
    },
    "papermill": {
     "duration": 11.928552,
     "end_time": "2024-06-23T17:58:35.452728",
     "exception": false,
     "start_time": "2024-06-23T17:58:23.524176",
     "status": "completed"
    },
    "tags": []
   },
   "outputs": [
    {
     "name": "stderr",
     "output_type": "stream",
     "text": [
      "2024-06-23 17:58:24.915720: E external/local_xla/xla/stream_executor/cuda/cuda_dnn.cc:9261] Unable to register cuDNN factory: Attempting to register factory for plugin cuDNN when one has already been registered\n",
      "2024-06-23 17:58:24.915839: E external/local_xla/xla/stream_executor/cuda/cuda_fft.cc:607] Unable to register cuFFT factory: Attempting to register factory for plugin cuFFT when one has already been registered\n",
      "2024-06-23 17:58:25.008926: E external/local_xla/xla/stream_executor/cuda/cuda_blas.cc:1515] Unable to register cuBLAS factory: Attempting to register factory for plugin cuBLAS when one has already been registered\n"
     ]
    }
   ],
   "source": [
    "import tensorflow as tf\n",
    "from tensorflow import keras\n",
    "import numpy as np\n",
    "import pandas as pd\n",
    "import matplotlib.pyplot as plt\n",
    "import seaborn as sn\n",
    "import os"
   ]
  },
  {
   "cell_type": "code",
   "execution_count": 2,
   "id": "eee44f95",
   "metadata": {
    "execution": {
     "iopub.execute_input": "2024-06-23T17:58:35.461623Z",
     "iopub.status.busy": "2024-06-23T17:58:35.461135Z",
     "iopub.status.idle": "2024-06-23T17:58:35.466253Z",
     "shell.execute_reply": "2024-06-23T17:58:35.465516Z"
    },
    "papermill": {
     "duration": 0.011519,
     "end_time": "2024-06-23T17:58:35.468160",
     "exception": false,
     "start_time": "2024-06-23T17:58:35.456641",
     "status": "completed"
    },
    "tags": []
   },
   "outputs": [],
   "source": [
    "base_path = '/kaggle/input/character-images'"
   ]
  },
  {
   "cell_type": "code",
   "execution_count": 3,
   "id": "7d769d99",
   "metadata": {
    "execution": {
     "iopub.execute_input": "2024-06-23T17:58:35.476077Z",
     "iopub.status.busy": "2024-06-23T17:58:35.475778Z",
     "iopub.status.idle": "2024-06-23T17:59:47.434625Z",
     "shell.execute_reply": "2024-06-23T17:59:47.433775Z"
    },
    "papermill": {
     "duration": 71.96552,
     "end_time": "2024-06-23T17:59:47.437131",
     "exception": false,
     "start_time": "2024-06-23T17:58:35.471611",
     "status": "completed"
    },
    "tags": []
   },
   "outputs": [],
   "source": [
    "# Load the CSV files\n",
    "train_df = pd.read_csv(os.path.join(base_path, 'emnist-byclass-train.csv'), header=None)\n",
    "test_df = pd.read_csv(os.path.join(base_path, 'emnist-byclass-test.csv'), header=None)\n",
    "\n",
    "# Separate features and labels\n",
    "X_train = train_df.iloc[:, 1:].values\n",
    "y_train = train_df.iloc[:, 0].values\n",
    "X_test = test_df.iloc[:, 1:].values\n",
    "y_test = test_df.iloc[:, 0].values\n",
    "\n",
    "# Reshape and normalize the data\n",
    "X_train = X_train.reshape(-1, 28, 28, 1).astype('float32') / 255.0\n",
    "X_test = X_test.reshape(-1, 28, 28, 1).astype('float32') / 255.0"
   ]
  },
  {
   "cell_type": "code",
   "execution_count": 4,
   "id": "7899ce8d",
   "metadata": {
    "execution": {
     "iopub.execute_input": "2024-06-23T17:59:47.445663Z",
     "iopub.status.busy": "2024-06-23T17:59:47.445365Z",
     "iopub.status.idle": "2024-06-23T17:59:47.940678Z",
     "shell.execute_reply": "2024-06-23T17:59:47.939681Z"
    },
    "papermill": {
     "duration": 0.502346,
     "end_time": "2024-06-23T17:59:47.943268",
     "exception": false,
     "start_time": "2024-06-23T17:59:47.440922",
     "status": "completed"
    },
    "tags": []
   },
   "outputs": [
    {
     "name": "stderr",
     "output_type": "stream",
     "text": [
      "/opt/conda/lib/python3.10/site-packages/keras/src/layers/convolutional/base_conv.py:107: UserWarning: Do not pass an `input_shape`/`input_dim` argument to a layer. When using Sequential models, prefer using an `Input(shape)` object as the first layer in the model instead.\n",
      "  super().__init__(activity_regularizer=activity_regularizer, **kwargs)\n"
     ]
    }
   ],
   "source": [
    "model = keras.Sequential([\n",
    "    keras.layers.Conv2D(32, kernel_size=(3, 3), activation='relu', input_shape=(28, 28, 1)),\n",
    "    keras.layers.BatchNormalization(),\n",
    "    keras.layers.MaxPooling2D(pool_size=(2, 2)),\n",
    "    keras.layers.Conv2D(64, kernel_size=(3, 3), activation='relu'),\n",
    "    keras.layers.BatchNormalization(),\n",
    "    keras.layers.MaxPooling2D(pool_size=(2, 2)),\n",
    "    keras.layers.Conv2D(128, kernel_size=(3, 3), activation='relu'),\n",
    "    keras.layers.BatchNormalization(),\n",
    "    keras.layers.MaxPooling2D(pool_size=(2, 2)),\n",
    "    keras.layers.Flatten(),\n",
    "    keras.layers.Dense(256, activation='relu'),\n",
    "    keras.layers.Dropout(0.5),\n",
    "    keras.layers.Dense(62, activation='softmax')  # 62 classes: 10 digits + 52 letters\n",
    "])\n",
    "\n",
    "model.compile(optimizer=keras.optimizers.Adam(learning_rate=0.0001),\n",
    "              loss='sparse_categorical_crossentropy',\n",
    "              metrics=['accuracy'])"
   ]
  },
  {
   "cell_type": "code",
   "execution_count": 5,
   "id": "aa4cf98a",
   "metadata": {
    "execution": {
     "iopub.execute_input": "2024-06-23T17:59:47.951746Z",
     "iopub.status.busy": "2024-06-23T17:59:47.951440Z",
     "iopub.status.idle": "2024-06-23T18:25:58.744384Z",
     "shell.execute_reply": "2024-06-23T18:25:58.743417Z"
    },
    "papermill": {
     "duration": 1570.799718,
     "end_time": "2024-06-23T18:25:58.746818",
     "exception": false,
     "start_time": "2024-06-23T17:59:47.947100",
     "status": "completed"
    },
    "tags": []
   },
   "outputs": [
    {
     "name": "stdout",
     "output_type": "stream",
     "text": [
      "Epoch 1/30\n"
     ]
    },
    {
     "name": "stderr",
     "output_type": "stream",
     "text": [
      "2024-06-23 17:59:56.953831: E external/local_xla/xla/service/gpu/buffer_comparator.cc:1137] Difference at 0: 2.35363, expected 1.53764\n",
      "2024-06-23 17:59:56.953887: E external/local_xla/xla/service/gpu/buffer_comparator.cc:1137] Difference at 1: 1.82107, expected 1.00508\n",
      "2024-06-23 17:59:56.953897: E external/local_xla/xla/service/gpu/buffer_comparator.cc:1137] Difference at 2: 1.81936, expected 1.00338\n",
      "2024-06-23 17:59:56.953905: E external/local_xla/xla/service/gpu/buffer_comparator.cc:1137] Difference at 3: 2.23827, expected 1.42229\n",
      "2024-06-23 17:59:56.953913: E external/local_xla/xla/service/gpu/buffer_comparator.cc:1137] Difference at 4: 3.05481, expected 2.23883\n",
      "2024-06-23 17:59:56.953921: E external/local_xla/xla/service/gpu/buffer_comparator.cc:1137] Difference at 5: 2.58554, expected 1.76955\n",
      "2024-06-23 17:59:56.953929: E external/local_xla/xla/service/gpu/buffer_comparator.cc:1137] Difference at 6: 3.00002, expected 2.18403\n",
      "2024-06-23 17:59:56.953937: E external/local_xla/xla/service/gpu/buffer_comparator.cc:1137] Difference at 7: 2.82235, expected 2.00636\n",
      "2024-06-23 17:59:56.953945: E external/local_xla/xla/service/gpu/buffer_comparator.cc:1137] Difference at 8: 3.10502, expected 2.28904\n",
      "2024-06-23 17:59:56.953953: E external/local_xla/xla/service/gpu/buffer_comparator.cc:1137] Difference at 9: 2.73743, expected 1.92145\n",
      "2024-06-23 17:59:56.953968: E external/local_xla/xla/service/gpu/conv_algorithm_picker.cc:705] Results mismatch between different convolution algorithms. This is likely a bug/unexpected loss of precision in cudnn.\n",
      "(f32[32,32,26,26]{3,2,1,0}, u8[0]{0}) custom-call(f32[32,1,28,28]{3,2,1,0}, f32[32,1,3,3]{3,2,1,0}, f32[32]{0}), window={size=3x3}, dim_labels=bf01_oi01->bf01, custom_call_target=\"__cudnn$convBiasActivationForward\", backend_config={\"conv_result_scale\":1,\"activation_mode\":\"kRelu\",\"side_input_scale\":0,\"leakyrelu_alpha\":0} for eng20{k2=2,k4=1,k5=1,k6=0,k7=0} vs eng15{k5=1,k6=0,k7=1,k10=1}\n",
      "2024-06-23 17:59:56.953977: E external/local_xla/xla/service/gpu/conv_algorithm_picker.cc:270] Device: Tesla P100-PCIE-16GB\n",
      "2024-06-23 17:59:56.953984: E external/local_xla/xla/service/gpu/conv_algorithm_picker.cc:271] Platform: Compute Capability 6.0\n",
      "2024-06-23 17:59:56.953990: E external/local_xla/xla/service/gpu/conv_algorithm_picker.cc:272] Driver: 12020 (535.129.3)\n",
      "2024-06-23 17:59:56.953997: E external/local_xla/xla/service/gpu/conv_algorithm_picker.cc:273] Runtime: <undefined>\n",
      "2024-06-23 17:59:56.954008: E external/local_xla/xla/service/gpu/conv_algorithm_picker.cc:280] cudnn version: 8.9.0\n",
      "2024-06-23 17:59:57.063697: E external/local_xla/xla/service/gpu/buffer_comparator.cc:1137] Difference at 0: 2.35363, expected 1.53764\n",
      "2024-06-23 17:59:57.063747: E external/local_xla/xla/service/gpu/buffer_comparator.cc:1137] Difference at 1: 1.82107, expected 1.00508\n",
      "2024-06-23 17:59:57.063757: E external/local_xla/xla/service/gpu/buffer_comparator.cc:1137] Difference at 2: 1.81936, expected 1.00338\n",
      "2024-06-23 17:59:57.063765: E external/local_xla/xla/service/gpu/buffer_comparator.cc:1137] Difference at 3: 2.23827, expected 1.42229\n",
      "2024-06-23 17:59:57.063773: E external/local_xla/xla/service/gpu/buffer_comparator.cc:1137] Difference at 4: 3.05481, expected 2.23883\n",
      "2024-06-23 17:59:57.063781: E external/local_xla/xla/service/gpu/buffer_comparator.cc:1137] Difference at 5: 2.58554, expected 1.76955\n",
      "2024-06-23 17:59:57.063789: E external/local_xla/xla/service/gpu/buffer_comparator.cc:1137] Difference at 6: 3.00002, expected 2.18403\n",
      "2024-06-23 17:59:57.063798: E external/local_xla/xla/service/gpu/buffer_comparator.cc:1137] Difference at 7: 2.82235, expected 2.00636\n",
      "2024-06-23 17:59:57.063806: E external/local_xla/xla/service/gpu/buffer_comparator.cc:1137] Difference at 8: 3.10502, expected 2.28904\n",
      "2024-06-23 17:59:57.063814: E external/local_xla/xla/service/gpu/buffer_comparator.cc:1137] Difference at 9: 2.73743, expected 1.92145\n",
      "2024-06-23 17:59:57.063834: E external/local_xla/xla/service/gpu/conv_algorithm_picker.cc:705] Results mismatch between different convolution algorithms. This is likely a bug/unexpected loss of precision in cudnn.\n",
      "(f32[32,32,26,26]{3,2,1,0}, u8[0]{0}) custom-call(f32[32,1,28,28]{3,2,1,0}, f32[32,1,3,3]{3,2,1,0}, f32[32]{0}), window={size=3x3}, dim_labels=bf01_oi01->bf01, custom_call_target=\"__cudnn$convBiasActivationForward\", backend_config={\"conv_result_scale\":1,\"activation_mode\":\"kRelu\",\"side_input_scale\":0,\"leakyrelu_alpha\":0} for eng20{k2=2,k4=1,k5=1,k6=0,k7=0} vs eng15{k5=1,k6=0,k7=1,k10=1}\n",
      "2024-06-23 17:59:57.063848: E external/local_xla/xla/service/gpu/conv_algorithm_picker.cc:270] Device: Tesla P100-PCIE-16GB\n",
      "2024-06-23 17:59:57.063860: E external/local_xla/xla/service/gpu/conv_algorithm_picker.cc:271] Platform: Compute Capability 6.0\n",
      "2024-06-23 17:59:57.063869: E external/local_xla/xla/service/gpu/conv_algorithm_picker.cc:272] Driver: 12020 (535.129.3)\n",
      "2024-06-23 17:59:57.063878: E external/local_xla/xla/service/gpu/conv_algorithm_picker.cc:273] Runtime: <undefined>\n",
      "2024-06-23 17:59:57.063894: E external/local_xla/xla/service/gpu/conv_algorithm_picker.cc:280] cudnn version: 8.9.0\n"
     ]
    },
    {
     "name": "stdout",
     "output_type": "stream",
     "text": [
      "\u001b[1m   62/19630\u001b[0m \u001b[37m━━━━━━━━━━━━━━━━━━━━\u001b[0m \u001b[1m49s\u001b[0m 3ms/step - accuracy: 0.0361 - loss: 4.7021"
     ]
    },
    {
     "name": "stderr",
     "output_type": "stream",
     "text": [
      "WARNING: All log messages before absl::InitializeLog() is called are written to STDERR\n",
      "I0000 00:00:1719165599.995535      66 device_compiler.h:186] Compiled cluster using XLA!  This line is logged at most once for the lifetime of the process.\n"
     ]
    },
    {
     "name": "stdout",
     "output_type": "stream",
     "text": [
      "\u001b[1m19630/19630\u001b[0m \u001b[32m━━━━━━━━━━━━━━━━━━━━\u001b[0m\u001b[37m\u001b[0m \u001b[1m64s\u001b[0m 3ms/step - accuracy: 0.6471 - loss: 1.3001 - val_accuracy: 0.8296 - val_loss: 0.4902\n",
      "Epoch 2/30\n",
      "\u001b[1m19630/19630\u001b[0m \u001b[32m━━━━━━━━━━━━━━━━━━━━\u001b[0m\u001b[37m\u001b[0m \u001b[1m52s\u001b[0m 3ms/step - accuracy: 0.8132 - loss: 0.5553 - val_accuracy: 0.8413 - val_loss: 0.4477\n",
      "Epoch 3/30\n",
      "\u001b[1m19630/19630\u001b[0m \u001b[32m━━━━━━━━━━━━━━━━━━━━\u001b[0m\u001b[37m\u001b[0m \u001b[1m52s\u001b[0m 3ms/step - accuracy: 0.8304 - loss: 0.4960 - val_accuracy: 0.8480 - val_loss: 0.4275\n",
      "Epoch 4/30\n",
      "\u001b[1m19630/19630\u001b[0m \u001b[32m━━━━━━━━━━━━━━━━━━━━\u001b[0m\u001b[37m\u001b[0m \u001b[1m51s\u001b[0m 3ms/step - accuracy: 0.8368 - loss: 0.4682 - val_accuracy: 0.8499 - val_loss: 0.4170\n",
      "Epoch 5/30\n",
      "\u001b[1m19630/19630\u001b[0m \u001b[32m━━━━━━━━━━━━━━━━━━━━\u001b[0m\u001b[37m\u001b[0m \u001b[1m51s\u001b[0m 3ms/step - accuracy: 0.8421 - loss: 0.4503 - val_accuracy: 0.8524 - val_loss: 0.4132\n",
      "Epoch 6/30\n",
      "\u001b[1m19630/19630\u001b[0m \u001b[32m━━━━━━━━━━━━━━━━━━━━\u001b[0m\u001b[37m\u001b[0m \u001b[1m51s\u001b[0m 3ms/step - accuracy: 0.8449 - loss: 0.4393 - val_accuracy: 0.8533 - val_loss: 0.4079\n",
      "Epoch 7/30\n",
      "\u001b[1m19630/19630\u001b[0m \u001b[32m━━━━━━━━━━━━━━━━━━━━\u001b[0m\u001b[37m\u001b[0m \u001b[1m51s\u001b[0m 3ms/step - accuracy: 0.8479 - loss: 0.4283 - val_accuracy: 0.8541 - val_loss: 0.4047\n",
      "Epoch 8/30\n",
      "\u001b[1m19630/19630\u001b[0m \u001b[32m━━━━━━━━━━━━━━━━━━━━\u001b[0m\u001b[37m\u001b[0m \u001b[1m52s\u001b[0m 3ms/step - accuracy: 0.8491 - loss: 0.4225 - val_accuracy: 0.8554 - val_loss: 0.4017\n",
      "Epoch 9/30\n",
      "\u001b[1m19630/19630\u001b[0m \u001b[32m━━━━━━━━━━━━━━━━━━━━\u001b[0m\u001b[37m\u001b[0m \u001b[1m52s\u001b[0m 3ms/step - accuracy: 0.8510 - loss: 0.4159 - val_accuracy: 0.8549 - val_loss: 0.4019\n",
      "Epoch 10/30\n",
      "\u001b[1m19630/19630\u001b[0m \u001b[32m━━━━━━━━━━━━━━━━━━━━\u001b[0m\u001b[37m\u001b[0m \u001b[1m51s\u001b[0m 3ms/step - accuracy: 0.8526 - loss: 0.4110 - val_accuracy: 0.8562 - val_loss: 0.3979\n",
      "Epoch 11/30\n",
      "\u001b[1m19630/19630\u001b[0m \u001b[32m━━━━━━━━━━━━━━━━━━━━\u001b[0m\u001b[37m\u001b[0m \u001b[1m52s\u001b[0m 3ms/step - accuracy: 0.8538 - loss: 0.4053 - val_accuracy: 0.8566 - val_loss: 0.3972\n",
      "Epoch 12/30\n",
      "\u001b[1m19630/19630\u001b[0m \u001b[32m━━━━━━━━━━━━━━━━━━━━\u001b[0m\u001b[37m\u001b[0m \u001b[1m52s\u001b[0m 3ms/step - accuracy: 0.8543 - loss: 0.4027 - val_accuracy: 0.8566 - val_loss: 0.3957\n",
      "Epoch 13/30\n",
      "\u001b[1m19630/19630\u001b[0m \u001b[32m━━━━━━━━━━━━━━━━━━━━\u001b[0m\u001b[37m\u001b[0m \u001b[1m52s\u001b[0m 3ms/step - accuracy: 0.8557 - loss: 0.3968 - val_accuracy: 0.8559 - val_loss: 0.3983\n",
      "Epoch 14/30\n",
      "\u001b[1m19630/19630\u001b[0m \u001b[32m━━━━━━━━━━━━━━━━━━━━\u001b[0m\u001b[37m\u001b[0m \u001b[1m52s\u001b[0m 3ms/step - accuracy: 0.8572 - loss: 0.3940 - val_accuracy: 0.8556 - val_loss: 0.3977\n",
      "Epoch 15/30\n",
      "\u001b[1m19630/19630\u001b[0m \u001b[32m━━━━━━━━━━━━━━━━━━━━\u001b[0m\u001b[37m\u001b[0m \u001b[1m52s\u001b[0m 3ms/step - accuracy: 0.8579 - loss: 0.3901 - val_accuracy: 0.8573 - val_loss: 0.3948\n",
      "Epoch 16/30\n",
      "\u001b[1m19630/19630\u001b[0m \u001b[32m━━━━━━━━━━━━━━━━━━━━\u001b[0m\u001b[37m\u001b[0m \u001b[1m51s\u001b[0m 3ms/step - accuracy: 0.8576 - loss: 0.3887 - val_accuracy: 0.8571 - val_loss: 0.3970\n",
      "Epoch 17/30\n",
      "\u001b[1m19630/19630\u001b[0m \u001b[32m━━━━━━━━━━━━━━━━━━━━\u001b[0m\u001b[37m\u001b[0m \u001b[1m52s\u001b[0m 3ms/step - accuracy: 0.8586 - loss: 0.3852 - val_accuracy: 0.8578 - val_loss: 0.3955\n",
      "Epoch 18/30\n",
      "\u001b[1m19630/19630\u001b[0m \u001b[32m━━━━━━━━━━━━━━━━━━━━\u001b[0m\u001b[37m\u001b[0m \u001b[1m52s\u001b[0m 3ms/step - accuracy: 0.8593 - loss: 0.3841 - val_accuracy: 0.8573 - val_loss: 0.3973\n",
      "Epoch 19/30\n",
      "\u001b[1m19630/19630\u001b[0m \u001b[32m━━━━━━━━━━━━━━━━━━━━\u001b[0m\u001b[37m\u001b[0m \u001b[1m52s\u001b[0m 3ms/step - accuracy: 0.8603 - loss: 0.3808 - val_accuracy: 0.8571 - val_loss: 0.3959\n",
      "Epoch 20/30\n",
      "\u001b[1m19630/19630\u001b[0m \u001b[32m━━━━━━━━━━━━━━━━━━━━\u001b[0m\u001b[37m\u001b[0m \u001b[1m52s\u001b[0m 3ms/step - accuracy: 0.8598 - loss: 0.3785 - val_accuracy: 0.8582 - val_loss: 0.3958\n",
      "Epoch 21/30\n",
      "\u001b[1m19630/19630\u001b[0m \u001b[32m━━━━━━━━━━━━━━━━━━━━\u001b[0m\u001b[37m\u001b[0m \u001b[1m52s\u001b[0m 3ms/step - accuracy: 0.8615 - loss: 0.3760 - val_accuracy: 0.8574 - val_loss: 0.3968\n",
      "Epoch 22/30\n",
      "\u001b[1m19630/19630\u001b[0m \u001b[32m━━━━━━━━━━━━━━━━━━━━\u001b[0m\u001b[37m\u001b[0m \u001b[1m52s\u001b[0m 3ms/step - accuracy: 0.8613 - loss: 0.3764 - val_accuracy: 0.8580 - val_loss: 0.3951\n",
      "Epoch 23/30\n",
      "\u001b[1m19630/19630\u001b[0m \u001b[32m━━━━━━━━━━━━━━━━━━━━\u001b[0m\u001b[37m\u001b[0m \u001b[1m52s\u001b[0m 3ms/step - accuracy: 0.8620 - loss: 0.3725 - val_accuracy: 0.8575 - val_loss: 0.3972\n",
      "Epoch 24/30\n",
      "\u001b[1m19630/19630\u001b[0m \u001b[32m━━━━━━━━━━━━━━━━━━━━\u001b[0m\u001b[37m\u001b[0m \u001b[1m52s\u001b[0m 3ms/step - accuracy: 0.8621 - loss: 0.3710 - val_accuracy: 0.8562 - val_loss: 0.4003\n",
      "Epoch 25/30\n",
      "\u001b[1m19630/19630\u001b[0m \u001b[32m━━━━━━━━━━━━━━━━━━━━\u001b[0m\u001b[37m\u001b[0m \u001b[1m52s\u001b[0m 3ms/step - accuracy: 0.8614 - loss: 0.3727 - val_accuracy: 0.8581 - val_loss: 0.3977\n",
      "Epoch 26/30\n",
      "\u001b[1m19630/19630\u001b[0m \u001b[32m━━━━━━━━━━━━━━━━━━━━\u001b[0m\u001b[37m\u001b[0m \u001b[1m52s\u001b[0m 3ms/step - accuracy: 0.8632 - loss: 0.3678 - val_accuracy: 0.8576 - val_loss: 0.3992\n",
      "Epoch 27/30\n",
      "\u001b[1m19630/19630\u001b[0m \u001b[32m━━━━━━━━━━━━━━━━━━━━\u001b[0m\u001b[37m\u001b[0m \u001b[1m52s\u001b[0m 3ms/step - accuracy: 0.8634 - loss: 0.3672 - val_accuracy: 0.8583 - val_loss: 0.4002\n",
      "Epoch 28/30\n",
      "\u001b[1m19630/19630\u001b[0m \u001b[32m━━━━━━━━━━━━━━━━━━━━\u001b[0m\u001b[37m\u001b[0m \u001b[1m52s\u001b[0m 3ms/step - accuracy: 0.8642 - loss: 0.3650 - val_accuracy: 0.8570 - val_loss: 0.4005\n",
      "Epoch 29/30\n",
      "\u001b[1m19630/19630\u001b[0m \u001b[32m━━━━━━━━━━━━━━━━━━━━\u001b[0m\u001b[37m\u001b[0m \u001b[1m52s\u001b[0m 3ms/step - accuracy: 0.8641 - loss: 0.3645 - val_accuracy: 0.8577 - val_loss: 0.4032\n",
      "Epoch 30/30\n",
      "\u001b[1m19630/19630\u001b[0m \u001b[32m━━━━━━━━━━━━━━━━━━━━\u001b[0m\u001b[37m\u001b[0m \u001b[1m52s\u001b[0m 3ms/step - accuracy: 0.8643 - loss: 0.3640 - val_accuracy: 0.8567 - val_loss: 0.4041\n"
     ]
    }
   ],
   "source": [
    "history = model.fit(X_train, y_train,\n",
    "                    batch_size=32,\n",
    "                    epochs=30,\n",
    "                    validation_split=0.1)"
   ]
  },
  {
   "cell_type": "code",
   "execution_count": 6,
   "id": "7da79dce",
   "metadata": {
    "execution": {
     "iopub.execute_input": "2024-06-23T18:26:03.605147Z",
     "iopub.status.busy": "2024-06-23T18:26:03.604206Z",
     "iopub.status.idle": "2024-06-23T18:26:10.161421Z",
     "shell.execute_reply": "2024-06-23T18:26:10.160396Z"
    },
    "papermill": {
     "duration": 8.934136,
     "end_time": "2024-06-23T18:26:10.163359",
     "exception": false,
     "start_time": "2024-06-23T18:26:01.229223",
     "status": "completed"
    },
    "tags": []
   },
   "outputs": [
    {
     "name": "stdout",
     "output_type": "stream",
     "text": [
      "\u001b[1m3636/3636\u001b[0m \u001b[32m━━━━━━━━━━━━━━━━━━━━\u001b[0m\u001b[37m\u001b[0m \u001b[1m6s\u001b[0m 2ms/step - accuracy: 0.8576 - loss: 0.4014\n",
      "Test accuracy: 0.8577151298522949\n"
     ]
    }
   ],
   "source": [
    "test_loss, test_acc = model.evaluate(X_test, y_test)\n",
    "print(f'Test accuracy: {test_acc}')"
   ]
  },
  {
   "cell_type": "code",
   "execution_count": 7,
   "id": "cad83622",
   "metadata": {
    "execution": {
     "iopub.execute_input": "2024-06-23T18:26:15.047542Z",
     "iopub.status.busy": "2024-06-23T18:26:15.047172Z",
     "iopub.status.idle": "2024-06-23T18:26:24.330790Z",
     "shell.execute_reply": "2024-06-23T18:26:24.329718Z"
    },
    "papermill": {
     "duration": 11.668739,
     "end_time": "2024-06-23T18:26:24.333063",
     "exception": false,
     "start_time": "2024-06-23T18:26:12.664324",
     "status": "completed"
    },
    "tags": []
   },
   "outputs": [
    {
     "name": "stdout",
     "output_type": "stream",
     "text": [
      "\u001b[1m3636/3636\u001b[0m \u001b[32m━━━━━━━━━━━━━━━━━━━━\u001b[0m\u001b[37m\u001b[0m \u001b[1m6s\u001b[0m 2ms/step\n"
     ]
    }
   ],
   "source": [
    "y_predicted = model.predict(X_test)\n",
    "y_predicted_labels = [np.argmax(i) for i in y_predicted]\n",
    "cm = tf.math.confusion_matrix(labels=y_test, predictions=y_predicted_labels)"
   ]
  },
  {
   "cell_type": "code",
   "execution_count": 8,
   "id": "2aa1438b",
   "metadata": {
    "execution": {
     "iopub.execute_input": "2024-06-23T18:26:29.110428Z",
     "iopub.status.busy": "2024-06-23T18:26:29.109998Z",
     "iopub.status.idle": "2024-06-23T18:26:29.114869Z",
     "shell.execute_reply": "2024-06-23T18:26:29.113959Z"
    },
    "papermill": {
     "duration": 2.396014,
     "end_time": "2024-06-23T18:26:29.116944",
     "exception": false,
     "start_time": "2024-06-23T18:26:26.720930",
     "status": "completed"
    },
    "tags": []
   },
   "outputs": [],
   "source": [
    "sample_index = 4382\n",
    "predicted_label = np.argmax(y_predicted[sample_index])\n",
    "actual_label = y_test[sample_index]"
   ]
  },
  {
   "cell_type": "code",
   "execution_count": 9,
   "id": "c3747351",
   "metadata": {
    "execution": {
     "iopub.execute_input": "2024-06-23T18:26:33.890546Z",
     "iopub.status.busy": "2024-06-23T18:26:33.890205Z",
     "iopub.status.idle": "2024-06-23T18:26:33.896876Z",
     "shell.execute_reply": "2024-06-23T18:26:33.895999Z"
    },
    "papermill": {
     "duration": 2.4512,
     "end_time": "2024-06-23T18:26:33.898723",
     "exception": false,
     "start_time": "2024-06-23T18:26:31.447523",
     "status": "completed"
    },
    "tags": []
   },
   "outputs": [
    {
     "data": {
      "text/plain": [
       "1"
      ]
     },
     "execution_count": 9,
     "metadata": {},
     "output_type": "execute_result"
    }
   ],
   "source": [
    "actual_label"
   ]
  },
  {
   "cell_type": "code",
   "execution_count": 10,
   "id": "49aff2b3",
   "metadata": {
    "execution": {
     "iopub.execute_input": "2024-06-23T18:26:38.697296Z",
     "iopub.status.busy": "2024-06-23T18:26:38.696947Z",
     "iopub.status.idle": "2024-06-23T18:26:38.702743Z",
     "shell.execute_reply": "2024-06-23T18:26:38.701891Z"
    },
    "papermill": {
     "duration": 2.496533,
     "end_time": "2024-06-23T18:26:38.704508",
     "exception": false,
     "start_time": "2024-06-23T18:26:36.207975",
     "status": "completed"
    },
    "tags": []
   },
   "outputs": [
    {
     "data": {
      "text/plain": [
       "1"
      ]
     },
     "execution_count": 10,
     "metadata": {},
     "output_type": "execute_result"
    }
   ],
   "source": [
    "predicted_label"
   ]
  },
  {
   "cell_type": "code",
   "execution_count": 11,
   "id": "3fa2214c",
   "metadata": {
    "execution": {
     "iopub.execute_input": "2024-06-23T18:26:43.520709Z",
     "iopub.status.busy": "2024-06-23T18:26:43.520329Z",
     "iopub.status.idle": "2024-06-23T18:26:44.414308Z",
     "shell.execute_reply": "2024-06-23T18:26:44.413385Z"
    },
    "papermill": {
     "duration": 3.378922,
     "end_time": "2024-06-23T18:26:44.416253",
     "exception": false,
     "start_time": "2024-06-23T18:26:41.037331",
     "status": "completed"
    },
    "tags": []
   },
   "outputs": [
    {
     "data": {
      "image/png": "[encoded data removed]",
      "text/plain": [
       "<Figure size 1500x1000 with 2 Axes>"
      ]
     },
     "metadata": {},
     "output_type": "display_data"
    }
   ],
   "source": [
    "cm_normalized = cm.numpy() / cm.numpy().sum(axis=1)[:, np.newaxis]\n",
    "plt.figure(figsize=(15, 10))\n",
    "sn.heatmap(cm_normalized, annot=False, fmt='.2f', cmap='Blues')\n",
    "plt.xlabel('Predicted')\n",
    "plt.ylabel('Actual')\n",
    "plt.show()"
   ]
  }
 ],
 "metadata": {
  "kaggle": {
   "accelerator": "gpu",
   "dataSources": [
    {
     "datasetId": 5263185,
     "sourceId": 8760173,
     "sourceType": "datasetVersion"
    }
   ],
   "dockerImageVersionId": 30732,
   "isGpuEnabled": true,
   "isInternetEnabled": true,
   "language": "python",
   "sourceType": "notebook"
  },
  "kernelspec": {
   "display_name": "Python 3",
   "language": "python",
   "name": "python3"
  },
  "language_info": {
   "codemirror_mode": {
    "name": "ipython",
    "version": 3
   },
   "file_extension": ".py",
   "mimetype": "text/x-python",
   "name": "python",
   "nbconvert_exporter": "python",
   "pygments_lexer": "ipython3",
   "version": "3.10.13"
  },
  "papermill": {
   "default_parameters": {},
   "duration": 1708.970818,
   "end_time": "2024-06-23T18:26:49.861499",
   "environment_variables": {},
   "exception": null,
   "input_path": "__notebook__.ipynb",
   "output_path": "__notebook__.ipynb",
   "parameters": {},
   "start_time": "2024-06-23T17:58:20.890681",
   "version": "2.5.0"
  }
 },
 "nbformat": 4,
 "nbformat_minor": 5
}
